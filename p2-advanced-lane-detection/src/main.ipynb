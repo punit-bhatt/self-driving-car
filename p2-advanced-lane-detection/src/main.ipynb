{
 "cells": [
  {
   "cell_type": "code",
   "execution_count": 1,
   "id": "ead8e6b1",
   "metadata": {},
   "outputs": [],
   "source": [
    "import cv2\n",
    "import numpy as np\n",
    "\n",
    "from moviepy.editor import VideoFileClip\n",
    "from helper import getBasicLogger, plotMultiple\n",
    "from camera import Camera\n",
    "from lane import Lane"
   ]
  },
  {
   "cell_type": "code",
   "execution_count": 2,
   "id": "1d172702",
   "metadata": {},
   "outputs": [],
   "source": [
    "calImgDirPath = '../camera_cal/'\n",
    "calCornersShape = (9, 6)\n",
    "logFilePath = 'log/log1.txt'\n",
    "\n",
    "videoClipPath = '../project_video.mp4'\n",
    "videoOutPath = '../output_images/out_project_video.mp4'"
   ]
  },
  {
   "cell_type": "code",
   "execution_count": 3,
   "id": "377c7e30",
   "metadata": {},
   "outputs": [
    {
     "name": "stdout",
     "output_type": "stream",
     "text": [
      "Calibration completed!\n"
     ]
    }
   ],
   "source": [
    "logger = getBasicLogger(logFilePath)\n",
    "camera = Camera(logger)\n",
    "\n",
    "# Calibrating camera\n",
    "camera.calibrateCamera(calImgDirPath, calCornersShape)\n",
    "\n",
    "print('Calibration completed!')"
   ]
  },
  {
   "cell_type": "code",
   "execution_count": 4,
   "id": "1cf7d2e2",
   "metadata": {},
   "outputs": [
    {
     "name": "stdout",
     "output_type": "stream",
     "text": [
      "Warp/Unwarp matrix generated!\n"
     ]
    }
   ],
   "source": [
    "# Coordinates derived from a trapezoidal ROI indicating the straight field of view.\n",
    "src = np.array([[271, 680], [1062, 680], [690, 450], [597, 450]], dtype=np.float32)\n",
    "dst = np.array([[300, 720], [900, 720], [900, 0], [300, 0]], dtype=np.float32)\n",
    "\n",
    "# Creating a lane instance with high prior weight.\n",
    "lane = Lane(logger, priorWeight=0.7, confidenceThresh=0.02)\n",
    "lane.perspectiveTransform(src, dst)\n",
    "\n",
    "print('Warp/Unwarp matrix generated!')"
   ]
  },
  {
   "cell_type": "code",
   "execution_count": 5,
   "id": "e8fa2c29",
   "metadata": {},
   "outputs": [],
   "source": [
    "def processImage(image):\n",
    "    \n",
    "    denoised = cv2.GaussianBlur(image, (5, 5), 1)\n",
    "    undistorted = camera.undistort(denoised)\n",
    "    _, _, _, outImg = lane.findLane(undistorted, True)\n",
    "\n",
    "    return outImg"
   ]
  },
  {
   "cell_type": "code",
   "execution_count": 6,
   "id": "52e70fa8",
   "metadata": {},
   "outputs": [
    {
     "name": "stderr",
     "output_type": "stream",
     "text": [
      "\r",
      "t:   0%|          | 0/1260 [00:00<?, ?it/s, now=None]"
     ]
    },
    {
     "name": "stdout",
     "output_type": "stream",
     "text": [
      "Moviepy - Building video ../output_images/out_project_video.mp4.\n",
      "Moviepy - Writing video ../output_images/out_project_video.mp4\n",
      "\n"
     ]
    },
    {
     "name": "stderr",
     "output_type": "stream",
     "text": [
      "                                                                \r"
     ]
    },
    {
     "name": "stdout",
     "output_type": "stream",
     "text": [
      "Moviepy - Done !\n",
      "Moviepy - video ready ../output_images/out_project_video.mp4\n"
     ]
    }
   ],
   "source": [
    "clip1 = VideoFileClip(videoClipPath)\n",
    "outClip = clip1.fl_image(processImage)\n",
    "outClip.write_videofile(videoOutPath, audio=False)"
   ]
  },
  {
   "cell_type": "code",
   "execution_count": null,
   "id": "feff7294",
   "metadata": {},
   "outputs": [],
   "source": []
  }
 ],
 "metadata": {
  "kernelspec": {
   "display_name": "Python 3",
   "language": "python",
   "name": "python3"
  },
  "language_info": {
   "codemirror_mode": {
    "name": "ipython",
    "version": 3
   },
   "file_extension": ".py",
   "mimetype": "text/x-python",
   "name": "python",
   "nbconvert_exporter": "python",
   "pygments_lexer": "ipython3",
   "version": "3.8.10"
  }
 },
 "nbformat": 4,
 "nbformat_minor": 5
}
